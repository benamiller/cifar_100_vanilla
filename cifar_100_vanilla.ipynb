{
  "nbformat": 4,
  "nbformat_minor": 0,
  "metadata": {
    "colab": {
      "provenance": [],
      "authorship_tag": "ABX9TyNlOTZ1KI1V24L0emyUkjAK",
      "include_colab_link": true
    },
    "kernelspec": {
      "name": "python3",
      "display_name": "Python 3"
    },
    "language_info": {
      "name": "python"
    }
  },
  "cells": [
    {
      "cell_type": "markdown",
      "metadata": {
        "id": "view-in-github",
        "colab_type": "text"
      },
      "source": [
        "<a href=\"https://colab.research.google.com/github/benamiller/cifar_100_vanilla/blob/main/cifar_100_vanilla.ipynb\" target=\"_parent\"><img src=\"https://colab.research.google.com/assets/colab-badge.svg\" alt=\"Open In Colab\"/></a>"
      ]
    },
    {
      "cell_type": "code",
      "execution_count": null,
      "metadata": {
        "colab": {
          "base_uri": "https://localhost:8080/"
        },
        "id": "L9blc0j5gA9t",
        "outputId": "c9cdfdbd-2f1f-46b5-bf30-529729e7e130"
      },
      "outputs": [
        {
          "output_type": "stream",
          "name": "stdout",
          "text": [
            "2.15.0\n"
          ]
        }
      ],
      "source": [
        "import tensorflow as tf\n",
        "import numpy as np"
      ]
    },
    {
      "cell_type": "code",
      "source": [
        "(x_train, y_train), (x_test, y_test) = tf.keras.datasets.cifar100.load_data(label_mode=\"fine\")\n"
      ],
      "metadata": {
        "colab": {
          "base_uri": "https://localhost:8080/"
        },
        "id": "gmojDX17gEun",
        "outputId": "2957d4e8-267b-4d7d-90ab-04a3068ac75e"
      },
      "execution_count": null,
      "outputs": [
        {
          "output_type": "stream",
          "name": "stdout",
          "text": [
            "Downloading data from https://www.cs.toronto.edu/~kriz/cifar-100-python.tar.gz\n",
            "169001437/169001437 [==============================] - 3s 0us/step\n"
          ]
        }
      ]
    },
    {
      "cell_type": "code",
      "source": [
        "print(x_train[:1])\n",
        "print(y_train[:1])"
      ],
      "metadata": {
        "colab": {
          "base_uri": "https://localhost:8080/"
        },
        "id": "rHGZJdyUgoy4",
        "outputId": "cb4e638e-6de3-4573-e881-12bd7ee4f204"
      },
      "execution_count": null,
      "outputs": [
        {
          "output_type": "stream",
          "name": "stdout",
          "text": [
            "[[[[255 255 255]\n",
            "   [255 255 255]\n",
            "   [255 255 255]\n",
            "   ...\n",
            "   [195 205 193]\n",
            "   [212 224 204]\n",
            "   [182 194 167]]\n",
            "\n",
            "  [[255 255 255]\n",
            "   [254 254 254]\n",
            "   [254 254 254]\n",
            "   ...\n",
            "   [170 176 150]\n",
            "   [161 168 130]\n",
            "   [146 154 113]]\n",
            "\n",
            "  [[255 255 255]\n",
            "   [254 254 254]\n",
            "   [255 255 255]\n",
            "   ...\n",
            "   [189 199 169]\n",
            "   [166 178 130]\n",
            "   [121 133  87]]\n",
            "\n",
            "  ...\n",
            "\n",
            "  [[148 185  79]\n",
            "   [142 182  57]\n",
            "   [140 179  60]\n",
            "   ...\n",
            "   [ 30  17   1]\n",
            "   [ 65  62  15]\n",
            "   [ 76  77  20]]\n",
            "\n",
            "  [[122 157  66]\n",
            "   [120 155  58]\n",
            "   [126 160  71]\n",
            "   ...\n",
            "   [ 22  16   3]\n",
            "   [ 97 112  56]\n",
            "   [141 161  87]]\n",
            "\n",
            "  [[ 87 122  41]\n",
            "   [ 88 122  39]\n",
            "   [101 134  56]\n",
            "   ...\n",
            "   [ 34  36  10]\n",
            "   [105 133  59]\n",
            "   [138 173  79]]]]\n",
            "[[19]]\n"
          ]
        }
      ]
    },
    {
      "cell_type": "code",
      "source": [],
      "metadata": {
        "id": "3ajNk6xlgqsj"
      },
      "execution_count": null,
      "outputs": []
    },
    {
      "cell_type": "code",
      "source": [],
      "metadata": {
        "id": "Njy6Jt9tav9N"
      },
      "execution_count": null,
      "outputs": []
    },
    {
      "cell_type": "markdown",
      "source": [
        "Just a cheeky test of Git"
      ],
      "metadata": {
        "id": "xJQPCmRZawHs"
      }
    }
  ]
}